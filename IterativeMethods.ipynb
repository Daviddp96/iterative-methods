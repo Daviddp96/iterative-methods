{
 "cells": [
  {
   "cell_type": "markdown",
   "id": "f1656347-0a6a-40d5-9686-42b850ce0f0a",
   "metadata": {},
   "source": [
    "\n",
    "<center><h1>Iterative Methods for Solving Linear Equations Systems</h1></center>\n",
    "\n",
    "\n",
    "\n",
    "## Introduction\n",
    "\n",
    "**Description**<br>\n",
    "\n",
    "Linear systems of equations, represented by the equation Ax = b, are ubiquitous in scientific computing. While direct methods like LU decomposition offer a guaranteed solution in a finite number of steps, their computational cost can become prohibitive for large and sparse matrices. This is where iterative methods shine.\n",
    "\n",
    "\n",
    "\n",
    "This notebook explores three popular iterative methods for solving linear systems: Jacobi, Gauss-Seidel, and Conjugate Gradient. Each method approaches the solution through successive approximations, aiming to converge to the true solution within a desired tolerance.\n",
    "\n",
    "<br>\n",
    "\n",
    "\n",
    "\n",
    "**Aspects**<br>\n",
    "\n",
    "Here, we'll delve into the following aspects:\n",
    "\n",
    "\n",
    "\n",
    "*  **Implementation:** We will code Jacobi's and Gauss-Seidel's methods in Python, and we will use the `cg` module from `scipy` for the Conjugate Gradient.\n",
    "\n",
    "   \n",
    "\n",
    "*  **Testing and Comparison:** We will test Jacobi's and Gauss-Seidel's methods on a set of well-defined test problems. This will allow us to analyze their:\n",
    "\n",
    "   \n",
    "\n",
    "      *  **Convergence Precision:** How close do the approximate solutions get to the true solution?\n",
    "\n",
    "     \n",
    "\n",
    "      *  **Convergence Speed:** How many iterations are required to achieve the desired accuracy?\n",
    "\n",
    "*  **Testing on Large Systems:** We will test the methods on matrices of 100x100.     \n",
    "\n",
    "*  **Insights and Discussion:** Based on the results, we will discuss the strengths and weaknesses of each method.\n",
    "\n"
   ]
  },
  {
   "cell_type": "markdown",
   "id": "e86670e0-1a3a-41f6-8f43-8fe9f277ea3a",
   "metadata": {},
   "source": [
    "## Implementation of Jacobi and Gauss-Seidel"
   ]
  },
  {
   "cell_type": "code",
   "execution_count": 1,
   "id": "ad2df07d-ed56-4906-a551-c768b8774331",
   "metadata": {},
   "outputs": [],
   "source": [
    "import numpy as np\n",
    "\n",
    "def jacobi_iteration(a, b, max_iterations, tolerance):\n",
    "    n = len(a)\n",
    "    x = np.zeros(n)  # Initialize x to zeros\n",
    "    x_new = np.zeros(n)  # Initialize the new x values\n",
    "\n",
    "    contIteraciones = 0\n",
    "\n",
    "    for iteration in range(max_iterations):\n",
    "        contIteraciones += 1\n",
    "        for i in range(n):\n",
    "            sigma = np.dot(a[i], x) - a[i][i] * x[i]\n",
    "            x_new[i] = (b[i] - sigma) / a[i][i]\n",
    "            \n",
    "\n",
    "        # Check convergence\n",
    "        error = np.max(np.abs(x_new - x))\n",
    "        if error < tolerance:\n",
    "            break\n",
    "\n",
    "        # Update x values for the next iteration\n",
    "        x = x_new.copy()\n",
    "\n",
    "    print(\"Iterations performed (Jacobi): \", contIteraciones)\n",
    "    return x_new\n",
    "\n",
    "def gauss_seidel_iteration(a, b, max_iterations, tolerance):\n",
    "    n = len(a)\n",
    "    x = np.zeros(n)  # Initialize x to zeros\n",
    "\n",
    "    contIteraciones = 0\n",
    "    \n",
    "    for iteration in range(max_iterations):\n",
    "        x_new = x.copy()  # Initialize the new x values\n",
    "        contIteraciones += 1\n",
    "        for i in range(n):\n",
    "            sigma = np.dot(a[i, :i], x_new[:i])\n",
    "            sigma += np.dot(a[i, i+1:], x[i+1:])\n",
    "            x_new[i] = (b[i] - sigma) / a[i, i]\n",
    "            \n",
    "\n",
    "        # Check convergence\n",
    "        error = np.max(np.abs(x_new - x))\n",
    "        if error < tolerance:\n",
    "            break\n",
    "\n",
    "        # Update x values for the next iteration\n",
    "        x = x_new.copy()\n",
    "\n",
    "    print(\"Iterations performed (Gauss-Seidel): \", contIteraciones)\n",
    "    return x_new\n",
    "\n",
    "## PrintMatrix.py utility function for printing matrixes in LaTeX format. By KMChris\n",
    "from IPython.display import display, Math\n",
    "\n",
    "def print_matrix(array):\n",
    "    matrix = ''\n",
    "    for row in array:\n",
    "        try:\n",
    "            for number in row:\n",
    "                matrix += f'{number}&'\n",
    "        except TypeError:\n",
    "            matrix += f'{row}&'\n",
    "        matrix = matrix[:-1] + r'\\\\'\n",
    "    display(Math(r'\\begin{bmatrix}'+matrix+r'\\end{bmatrix}'))"
   ]
  },
  {
   "cell_type": "markdown",
   "id": "d0f25bb1-d642-476c-a8c8-52e530e2c3b6",
   "metadata": {},
   "source": [
    "Gauss-Seidel reassigns values in `x_new` within the loop. This avoids creating a full copy of `x` in each iteration like Jacobi's `x = x_new.copy()`. This could potentially lead to a very minor memory advantage for Gauss-Seidel."
   ]
  },
  {
   "cell_type": "markdown",
   "id": "0bac746f-12ad-4721-83d7-7b3a0f3a0d49",
   "metadata": {},
   "source": [
    "## Convergence Study\n",
    "\n",
    "### Spectral Radius\n",
    "Before running any testing, let's make a quick convergence study for Jacobi and Gauss-Seidel, using the following equation:\n",
    "<center>A = M - N</center>\n",
    "\n"
   ]
  },
  {
   "cell_type": "markdown",
   "id": "52df7f86-37cd-431d-9f0d-30ea10dd0384",
   "metadata": {},
   "source": [
    "Now let's consider the following system for our convergence case study:"
   ]
  },
  {
   "cell_type": "markdown",
   "id": "bb6c124a-1e10-4931-9cf3-d0dc37c6e050",
   "metadata": {},
   "source": [
    "<center>\r\n",
    "    <img src=\"q2.png\" alt=\"EquationSystem\">\r\n",
    "</center>"
   ]
  },
  {
   "cell_type": "markdown",
   "id": "f8f6f0e6-272e-4931-b246-bf035b25c812",
   "metadata": {},
   "source": [
    "#### Jacobi Convergence\n",
    "\n",
    "For the Jacobi method, let's consider the matrices M and N as:"
   ]
  },
  {
   "cell_type": "code",
   "execution_count": 30,
   "id": "36177098-18be-4159-b206-35c1d1773c08",
   "metadata": {},
   "outputs": [
    {
     "name": "stdout",
     "output_type": "stream",
     "text": [
      "Matrix M: \n",
      "\n"
     ]
    },
    {
     "data": {
      "text/latex": [
       "$\\displaystyle \\begin{bmatrix}9&0\\\\0&8\\\\\\end{bmatrix}$"
      ],
      "text/plain": [
       "<IPython.core.display.Math object>"
      ]
     },
     "metadata": {},
     "output_type": "display_data"
    },
    {
     "name": "stdout",
     "output_type": "stream",
     "text": [
      "Matrix N: \n",
      "\n"
     ]
    },
    {
     "data": {
      "text/latex": [
       "$\\displaystyle \\begin{bmatrix}0&3\\\\2&0\\\\\\end{bmatrix}$"
      ],
      "text/plain": [
       "<IPython.core.display.Math object>"
      ]
     },
     "metadata": {},
     "output_type": "display_data"
    }
   ],
   "source": [
    "print(\"Matrix M: \\n\")\n",
    "print_matrix([[9,0], [0, 8]])\n",
    "\n",
    "print(\"Matrix N: \\n\")\n",
    "print_matrix([[0, 3], [2, 0]])\n",
    "\n",
    "# M1 = np.array([[9, 0], [0, 8]])\n",
    "# N1 = np.array([[0, 3], [2, 0]])"
   ]
  },
  {
   "cell_type": "markdown",
   "id": "db4b26f5-2d9f-40e8-b225-eba71c934b82",
   "metadata": {},
   "source": [
    "We multiply these two matrices and subtract the matrix Iλ to the result, so that we have:"
   ]
  },
  {
   "cell_type": "code",
   "execution_count": 31,
   "id": "5683d367-e4d3-4795-9c84-407f3d7d2b66",
   "metadata": {},
   "outputs": [
    {
     "name": "stdout",
     "output_type": "stream",
     "text": [
      "Matrix C: \n",
      "\n"
     ]
    },
    {
     "data": {
      "text/latex": [
       "$\\displaystyle \\begin{bmatrix}-λ&1/3\\\\1/4&-λ\\\\\\end{bmatrix}$"
      ],
      "text/plain": [
       "<IPython.core.display.Math object>"
      ]
     },
     "metadata": {},
     "output_type": "display_data"
    }
   ],
   "source": [
    "print(\"Matrix C: \\n\")\n",
    "print_matrix([['-λ', '1/3'], ['1/4', '-λ']])"
   ]
  },
  {
   "cell_type": "markdown",
   "id": "3fcb04a6-bcc7-4ff1-b41d-bab6f5887e8a",
   "metadata": {},
   "source": [
    "Let's calculate the determinant of C which is:\n",
    "<center>λ1 = 1/√12</center>\n",
    "<center>λ2 = -1/√12</center>\n",
    "<br>\n",
    "We then take λ1 as the spectral radius of our matrix and compare it to 1, since λ1 is less than 1, we conclude that Jacobi's method converges.\n",
    "\n",
    "#### Gauss-Seidel\n",
    "\n",
    "Now we'll have a look at Gauss-Seidel, the M and N matrices are as follows:"
   ]
  },
  {
   "cell_type": "code",
   "execution_count": 32,
   "id": "195aa278-671d-481a-b72f-12a45759a317",
   "metadata": {},
   "outputs": [
    {
     "name": "stdout",
     "output_type": "stream",
     "text": [
      "Matrix M: \n",
      "\n"
     ]
    },
    {
     "data": {
      "text/latex": [
       "$\\displaystyle \\begin{bmatrix}9&0\\\\-2&8\\\\\\end{bmatrix}$"
      ],
      "text/plain": [
       "<IPython.core.display.Math object>"
      ]
     },
     "metadata": {},
     "output_type": "display_data"
    },
    {
     "name": "stdout",
     "output_type": "stream",
     "text": [
      "Matrix N: \n",
      "\n"
     ]
    },
    {
     "data": {
      "text/latex": [
       "$\\displaystyle \\begin{bmatrix}0&3\\\\0&0\\\\\\end{bmatrix}$"
      ],
      "text/plain": [
       "<IPython.core.display.Math object>"
      ]
     },
     "metadata": {},
     "output_type": "display_data"
    }
   ],
   "source": [
    "print(\"Matrix M: \\n\")\n",
    "print_matrix([[9, 0], [-2, 8]])\n",
    "\n",
    "print(\"Matrix N: \\n\")\n",
    "print_matrix([[0, 3], [0, 0]])"
   ]
  },
  {
   "cell_type": "markdown",
   "id": "c69eeb8e-4ad1-4c0f-b7a2-22a591713c21",
   "metadata": {},
   "source": [
    "Let's use the inverse of M:"
   ]
  },
  {
   "cell_type": "code",
   "execution_count": 33,
   "id": "648b2f35-d0ea-455f-8e25-da49e31ea026",
   "metadata": {},
   "outputs": [
    {
     "name": "stdout",
     "output_type": "stream",
     "text": [
      "Matrix M Inverse: \n",
      "\n"
     ]
    },
    {
     "data": {
      "text/latex": [
       "$\\displaystyle \\begin{bmatrix}1/9&0\\\\1/36&1/8\\\\\\end{bmatrix}$"
      ],
      "text/plain": [
       "<IPython.core.display.Math object>"
      ]
     },
     "metadata": {},
     "output_type": "display_data"
    }
   ],
   "source": [
    "print(\"Matrix M Inverse: \\n\")\n",
    "print_matrix([['1/9', 0], ['1/36', '1/8']])"
   ]
  },
  {
   "cell_type": "markdown",
   "id": "08d76456-130b-4871-901c-f6299c7337f7",
   "metadata": {},
   "source": [
    "We multiply this matrix by N and get the following matrix:"
   ]
  },
  {
   "cell_type": "code",
   "execution_count": 34,
   "id": "d67b296d-f5da-4a1d-a592-988618bb7694",
   "metadata": {},
   "outputs": [
    {
     "name": "stdout",
     "output_type": "stream",
     "text": [
      "Matrix B Gauss-Seidel: \n",
      "\n"
     ]
    },
    {
     "data": {
      "text/latex": [
       "$\\displaystyle \\begin{bmatrix}0&1/3\\\\0&1/12\\\\\\end{bmatrix}$"
      ],
      "text/plain": [
       "<IPython.core.display.Math object>"
      ]
     },
     "metadata": {},
     "output_type": "display_data"
    }
   ],
   "source": [
    "print(\"Matrix B Gauss-Seidel: \\n\")\n",
    "print_matrix([[0, '1/3'], [0, '1/12']])"
   ]
  },
  {
   "cell_type": "markdown",
   "id": "5daf5154-3254-4cf6-b744-dd721bddc551",
   "metadata": {},
   "source": [
    "Similarly to the Jacobi method, let's subtract Iλ:"
   ]
  },
  {
   "cell_type": "code",
   "execution_count": 35,
   "id": "85779dea-a164-4395-9280-d7119edad435",
   "metadata": {},
   "outputs": [
    {
     "name": "stdout",
     "output_type": "stream",
     "text": [
      "Matrix C: \n",
      "\n"
     ]
    },
    {
     "data": {
      "text/latex": [
       "$\\displaystyle \\begin{bmatrix}-λ&1/3\\\\0&1/12-λ\\\\\\end{bmatrix}$"
      ],
      "text/plain": [
       "<IPython.core.display.Math object>"
      ]
     },
     "metadata": {},
     "output_type": "display_data"
    }
   ],
   "source": [
    "print(\"Matrix C: \\n\")\n",
    "print_matrix([['-λ', '1/3'], [0, '1/12-λ']])"
   ]
  },
  {
   "cell_type": "markdown",
   "id": "55ec325d-e71a-49ae-9551-11cbfd33dc4b",
   "metadata": {},
   "source": [
    "Determinant of C:\n",
    "<center>λ1 = 0</center>\n",
    "<center>λ2 = 1/12</center>\n",
    "\n",
    "We take λ2, compare it with 1, since λ2 < 1, we conclude that Gauss-Seidel's method also converges."
   ]
  },
  {
   "cell_type": "markdown",
   "id": "423567df-5b95-46d2-a283-dce0394625fd",
   "metadata": {},
   "source": [
    "## Testing & Comparison\n",
    "### A diagonally dominant matrix"
   ]
  },
  {
   "cell_type": "code",
   "execution_count": 5,
   "id": "4c488162-ff01-40d9-914a-24e9792cb7d4",
   "metadata": {},
   "outputs": [
    {
     "name": "stdout",
     "output_type": "stream",
     "text": [
      "Iterations performed (Jacobi):  12\n",
      "Jacobi: [ 0.54545436 -0.36363624]\n",
      "\n",
      "\n",
      "Iterations performed (Gauss-Seidel):  7\n",
      "Gauss-Seidel: [ 0.54545459 -0.36363635]\n",
      "\n",
      "\n"
     ]
    }
   ],
   "source": [
    "a = np.array([[9,-3],[-2,8]])  \n",
    "b = np.array([6,-4])  \n",
    "max_iterations = 100\n",
    "tolerance = 1e-6\n",
    "\n",
    "x_jacobi = jacobi_iteration(a, b, max_iterations, tolerance)\n",
    "print(\"Jacobi:\", x_jacobi)\n",
    "print(\"\\n\")\n",
    "x_gauss_seidel = gauss_seidel_iteration(a, b, max_iterations, tolerance)\n",
    "print(\"Gauss-Seidel:\", x_gauss_seidel)\n",
    "print(\"\\n\")"
   ]
  },
  {
   "cell_type": "markdown",
   "id": "ce9237ff-fa6b-4422-8a88-bbce0d404c03",
   "metadata": {},
   "source": [
    "We solved the system using an equation solver, the result was the vector `[0.5454545454545454, -0.36363636363636365]`, let's analyze the results given by our implemented methods.\n",
    "\n",
    "**Convergence Precision**<br>\n",
    "As we can see, both methods produced fairly similar results, and as concluded in the last study, both methods indeed converge to the solution of the system.\n",
    "\n",
    "**Convergence Speed**<br>\n",
    "Gauss-Seidel was faster than Jacobi on this case, taking 7 iterations instead of 12."
   ]
  },
  {
   "cell_type": "markdown",
   "id": "b1d97817-7427-4b10-acf1-2383a38c460a",
   "metadata": {},
   "source": [
    "### A non diagonally dominant matrix"
   ]
  },
  {
   "cell_type": "code",
   "execution_count": 7,
   "id": "68836990-d499-4fe3-8d4b-57da10ca104c",
   "metadata": {},
   "outputs": [
    {
     "name": "stdout",
     "output_type": "stream",
     "text": [
      "Iterations performed (Jacobi):  100\n",
      "Jacobi: [17.99998981  3.99999773]\n",
      "\n",
      "\n",
      "Iterations performed (Gauss-Seidel):  54\n",
      "Gauss-Seidel: [17.99999713  3.99999928]\n",
      "\n",
      "\n"
     ]
    }
   ],
   "source": [
    "a = np.array([[1,-3],[-2,8]])  \n",
    "b = np.array([6,-4])  \n",
    "max_iterations = 100\n",
    "tolerance = 1e-6\n",
    "\n",
    "x_jacobi = jacobi_iteration(a, b, max_iterations, tolerance)\n",
    "print(\"Jacobi:\", x_jacobi)\n",
    "print(\"\\n\")\n",
    "x_gauss_seidel = gauss_seidel_iteration(a, b, max_iterations, tolerance)\n",
    "print(\"Gauss-Seidel:\", x_gauss_seidel)\n",
    "print(\"\\n\")\n"
   ]
  },
  {
   "cell_type": "markdown",
   "id": "39217500-07e8-43df-9230-f150ee4ea349",
   "metadata": {},
   "source": [
    "The system was altered so that we're not managing a non diagonally dominant matrix, once again we used an equation solver to compare our algorithms and got the following result: `[18, 4]`.\n",
    "\n",
    "\n",
    "**Convergence Precision**<br>\n",
    "We see that both methods were able to converge and return approximate solutions to the system, and that the values obtained with Gauss-Seidel's method are a little closer to the real solution of the system. From this we can conclude that Gauss-Seidel's method is lightly better in precision terms for this particular case.\n",
    "\n",
    "**Convergence Speed**<br>\n",
    "Once again, Gauss-Seidel's method took less iterations to converge to the solution of the system, taking about 1.8 iterations less than Jacobi's."
   ]
  },
  {
   "cell_type": "markdown",
   "id": "4f53cadf-a863-4136-8d81-ecdf1229ca4a",
   "metadata": {},
   "source": [
    "## Testing on Large Systems\n",
    "\n",
    "### Jacobi and Gauss-Seidel\n",
    "\n",
    "We start by creating a 100x100 pentadiagonal matrix, where the main diagonal is made of all fours, and the adjacent diagonals are all -1. Our goal is to pick a vector <em>b</em> such that `x = [1,1,....,1]` is the solution to the system."
   ]
  },
  {
   "cell_type": "code",
   "execution_count": 17,
   "id": "93e66640-c56b-44d7-bfa5-c95328c165a5",
   "metadata": {},
   "outputs": [
    {
     "name": "stdout",
     "output_type": "stream",
     "text": [
      "[[ 4 -1 -1 ...  0  0  0]\n",
      " [-1  4 -1 ...  0  0  0]\n",
      " [-1 -1  4 ...  0  0  0]\n",
      " ...\n",
      " [ 0  0  0 ...  4 -1 -1]\n",
      " [ 0  0  0 ... -1  4 -1]\n",
      " [ 0  0  0 ... -1 -1  4]]\n"
     ]
    }
   ],
   "source": [
    "import numpy as np\n",
    "\n",
    "n = 100  # Dimension of the matrix A\n",
    "\n",
    "# Initialize A as a matrix with five diagonals\n",
    "diagonal = np.full(n, 4)\n",
    "off_diagonals = np.full(n - 1, -1)\n",
    "A = np.diag(diagonal) + np.diag(off_diagonals, k=1) + np.diag(off_diagonals, k=-1)\n",
    "A += np.diag(off_diagonals[:-1], k=2) + np.diag(off_diagonals[:-1], k=-2)\n",
    "\n",
    "# Initialize vector b based on the solution x = [1, ..., 1]\n",
    "b = np.dot(A, np.ones(n))\n",
    "\n",
    "\n",
    "max_iterations = 8000\n",
    "tolerance = 1e-6\n",
    "\n",
    "print(A)"
   ]
  },
  {
   "cell_type": "code",
   "execution_count": 18,
   "id": "dc1b5028-59dc-441c-8e14-594f92de9e1a",
   "metadata": {},
   "outputs": [
    {
     "name": "stdout",
     "output_type": "stream",
     "text": [
      "Iterations performed (Jacobi):  6125\n",
      "[0.99996431 0.99994229 0.99991511 0.99989001 0.99986425 0.99983891\n",
      " 0.99981362 0.99978854 0.99976366 0.999739   0.99971459 0.99969046\n",
      " 0.99966662 0.9996431  0.99961992 0.99959711 0.99957468 0.99955266\n",
      " 0.99953106 0.99950992 0.99948924 0.99946906 0.99944938 0.99943022\n",
      " 0.99941162 0.99939357 0.99937611 0.99935924 0.99934299 0.99932737\n",
      " 0.99931239 0.99929806 0.99928441 0.99927145 0.99925918 0.99924762\n",
      " 0.99923678 0.99922667 0.9992173  0.99920867 0.99920081 0.99919371\n",
      " 0.99918738 0.99918183 0.99917707 0.99917309 0.9991699  0.99916751\n",
      " 0.99916591 0.99916511 0.99916511 0.99916591 0.99916751 0.9991699\n",
      " 0.99917309 0.99917707 0.99918183 0.99918738 0.99919371 0.99920081\n",
      " 0.99920867 0.9992173  0.99922667 0.99923678 0.99924762 0.99925918\n",
      " 0.99927145 0.99928441 0.99929806 0.99931239 0.99932737 0.99934299\n",
      " 0.99935924 0.99937611 0.99939357 0.99941162 0.99943022 0.99944938\n",
      " 0.99946906 0.99948924 0.99950992 0.99953106 0.99955266 0.99957468\n",
      " 0.99959711 0.99961992 0.9996431  0.99966662 0.99969046 0.99971459\n",
      " 0.999739   0.99976366 0.99978854 0.99981362 0.99983891 0.99986425\n",
      " 0.99989001 0.99991511 0.99994229 0.99996431]\n"
     ]
    }
   ],
   "source": [
    "# Call the Jacobi iteration method with the constructed A and b\n",
    "result = jacobi_iteration(A, b, max_iterations, tolerance)\n",
    "\n",
    "print(result)"
   ]
  },
  {
   "cell_type": "code",
   "execution_count": 19,
   "id": "c5e0438f-b22f-4f47-a4c3-87f8b4016014",
   "metadata": {},
   "outputs": [
    {
     "name": "stdout",
     "output_type": "stream",
     "text": [
      "Iterations performed (Gauss-Seidel):  3354\n",
      "[0.99998156 0.99997021 0.99995621 0.9999433  0.99993007 0.99991708\n",
      " 0.99990413 0.99989131 0.9998786  0.99986603 0.99985361 0.99984134\n",
      " 0.99982925 0.99981733 0.99980561 0.99979409 0.99978278 0.9997717\n",
      " 0.99976085 0.99975025 0.9997399  0.99972981 0.99972    0.99971047\n",
      " 0.99970123 0.99969229 0.99968365 0.99967533 0.99966734 0.99965967\n",
      " 0.99965234 0.99964535 0.99963872 0.99963243 0.99962651 0.99962096\n",
      " 0.99961577 0.99961096 0.99960653 0.99960248 0.99959882 0.99959555\n",
      " 0.99959266 0.99959018 0.99958808 0.99958639 0.99958509 0.9995842\n",
      " 0.9995837  0.9995836  0.9995839  0.99958459 0.99958569 0.99958717\n",
      " 0.99958905 0.99959133 0.99959398 0.99959703 0.99960045 0.99960425\n",
      " 0.99960843 0.99961297 0.99961788 0.99962315 0.99962877 0.99963473\n",
      " 0.99964104 0.99964768 0.99965465 0.99966194 0.99966954 0.99967745\n",
      " 0.99968566 0.99969415 0.99970293 0.99971197 0.99972128 0.99973084\n",
      " 0.99974065 0.99975069 0.99976095 0.99977143 0.99978211 0.99979299\n",
      " 0.99980404 0.99981527 0.99982666 0.9998382  0.99984988 0.99986168\n",
      " 0.9998736  0.99988562 0.99989774 0.99990993 0.99992221 0.9999345\n",
      " 0.99994696 0.9999591  0.99997221 0.99998283]\n"
     ]
    }
   ],
   "source": [
    "# Call the Gauss-Seidel iteration method with the constructed A and b\n",
    "result = gauss_seidel_iteration(A, b, max_iterations, tolerance)\n",
    "\n",
    "print(result)"
   ]
  },
  {
   "cell_type": "markdown",
   "id": "40e2686f-ab8a-4a7c-a594-4e6f4356849d",
   "metadata": {},
   "source": [
    "We see that the Gauss-Seidel method required fewer iterations (3354) than the Jacobi method (6125). This suggests that the Gauss-Seidel method converges faster for the given matrix and vector of independent terms, in this case the difference is that Gauss-Seidel needs a little more than half the iterations that Jacobi needs. In this case it is so because in each Gauss-Seidel iteration, the variables are updated using the values already calculated in the same iteration. This allows a faster propagation of the updated information through the system of equations."
   ]
  },
  {
   "cell_type": "markdown",
   "id": "4390240a-dbb7-4421-995b-19b7ee0b1579",
   "metadata": {},
   "source": [
    "### Conjugate Gradient\n",
    "\n",
    "Let's now consider a 100x100 tridiagonal matrix, where the main diagonal is made of all twos, and the adjacent diagonals are all -1. Our goal is to pick a vector <em>b</em> such that `x = [1,1,....,1]` is the solution to the system. We will test the `cg` module from `scipy`, comparing the method with and without preconditioning matrices."
   ]
  },
  {
   "cell_type": "code",
   "execution_count": 20,
   "id": "c9763ec5-e914-4c18-9488-f54ea37cf311",
   "metadata": {},
   "outputs": [
    {
     "name": "stdout",
     "output_type": "stream",
     "text": [
      "[[ 2. -1.  0. ...  0.  0.  0.]\n",
      " [-1.  2. -1. ...  0.  0.  0.]\n",
      " [ 0. -1.  2. ...  0.  0.  0.]\n",
      " ...\n",
      " [ 0.  0.  0. ...  2. -1.  0.]\n",
      " [ 0.  0.  0. ... -1.  2. -1.]\n",
      " [ 0.  0.  0. ...  0. -1.  2.]]\n",
      "\n",
      "\n",
      "CG wtihout preconditioning:\n",
      "\n",
      "Number of iterations: 33\n",
      "[1.0000003  0.9999994  1.00000054 0.99999927 1.00000093 0.99999928\n",
      " 1.00000071 0.99999926 1.00000036 0.99999979 1.0000002  1.00000014\n",
      " 0.99999981 0.99999994 1.00000001 0.99999981 1.00000064 0.9999994\n",
      " 1.00000052 0.99999941 1.00000007 1.00000048 0.99999946 1.00000079\n",
      " 0.99999909 1.00000036 0.99999985 1.00000043 0.99999965 1.00000043\n",
      " 0.99999919 1.00000029 1.0000007  0.99999923 1.00000048 0.99999939\n",
      " 1.00000038 1.00000019 0.99999997 0.99999963 0.99999968 1.00000139\n",
      " 0.99999897 0.99999945 1.00000143 0.99999929 0.99999949 1.00000069\n",
      " 1.         0.9999998  0.9999998  1.         1.00000069 0.99999949\n",
      " 0.99999929 1.00000143 0.99999945 0.99999897 1.00000139 0.99999968\n",
      " 0.99999963 0.99999997 1.00000019 1.00000038 0.99999939 1.00000048\n",
      " 0.99999923 1.0000007  1.00000029 0.99999919 1.00000043 0.99999965\n",
      " 1.00000043 0.99999985 1.00000036 0.99999909 1.00000079 0.99999946\n",
      " 1.00000048 1.00000007 0.99999941 1.00000052 0.9999994  1.00000064\n",
      " 0.99999981 1.00000001 0.99999994 0.99999981 1.00000014 1.0000002\n",
      " 0.99999979 1.00000036 0.99999926 1.00000071 0.99999928 1.00000093\n",
      " 0.99999927 1.00000054 0.9999994  1.0000003 ]\n",
      "\n",
      "CG with preconditioning:\n",
      "Number of iterations: 73\n",
      "[0.99999942 0.99999989 1.00000007 1.00000039 1.00000068 1.00000039\n",
      " 0.99999941 0.99999905 0.99999912 0.99999918 0.99999974 1.00000131\n",
      " 1.00000242 1.00000149 1.00000017 0.99999968 0.99999855 0.99999722\n",
      " 0.99999754 0.99999931 1.00000119 1.00000237 1.00000291 1.0000024\n",
      " 1.00000044 0.9999986  0.99999782 0.99999735 0.99999801 0.99999977\n",
      " 1.00000081 1.00000107 1.00000141 1.00000207 1.00000215 1.00000065\n",
      " 0.99999888 0.99999776 0.99999707 0.99999791 0.9999998  1.0000012\n",
      " 1.00000199 1.00000196 1.00000143 1.00000083 0.99999975 0.99999878\n",
      " 0.99999829 0.99999829 0.99999924 1.00000007 1.00000041 1.00000107\n",
      " 1.00000128 1.00000092 1.00000043 0.99999974 0.99999944 0.99999951\n",
      " 0.99999963 0.99999971 0.99999924 0.99999908 0.99999992 1.00000069\n",
      " 1.00000125 1.00000144 1.00000064 0.99999964 0.99999901 0.99999905\n",
      " 0.99999971 0.99999987 0.99999976 0.99999991 0.99999996 1.0000004\n",
      " 1.00000058 1.00000025 1.00000072 1.00000076 0.99999966 0.99999906\n",
      " 0.99999936 0.99999986 0.99999939 0.99999871 0.99999984 1.00000133\n",
      " 1.00000184 1.00000205 1.00000076 0.99999829 0.99999707 0.99999827\n",
      " 1.00000018 1.00000134 1.00000161 1.00000225]\n"
     ]
    }
   ],
   "source": [
    "import numpy as np\n",
    "import scipy.sparse as sp\n",
    "import scipy.sparse.linalg as spla\n",
    "\n",
    "n = 100  # Dimension of the matrix M\n",
    "\n",
    "# Create the tridiagonal matrix M\n",
    "diagonal = np.full(n, 2)\n",
    "off_diagonals = np.full(n - 1, -1)\n",
    "M = sp.diags([off_diagonals, diagonal, off_diagonals], [-1, 0, 1]).toarray()\n",
    "\n",
    "print(M)\n",
    "print(\"\\n\")\n",
    "\n",
    "b = np.dot(A, np.ones(n))\n",
    "\n",
    "def callbackGCm(x):\n",
    "    callbackGCm.iteration += 1\n",
    "\n",
    "def callbackGC(x):\n",
    "    callbackGC.iteration += 1\n",
    "\n",
    "# Definir las variables callback_cg y callback_cgM antes de usarlas\n",
    "callbackGC.iteration = 0\n",
    "callbackGCm.iteration = 0\n",
    "x_cg, info_cg = spla.cg(A, b, callback=callbackGC)\n",
    "\n",
    "x_cg_precond, info_cg_precond = spla.cg(A, b, M=M, callback=callbackGCm)\n",
    "\n",
    "print(\"CG wtihout preconditioning:\")\n",
    "print(\"\\nNumber of iterations:\", callbackGC.iteration)\n",
    "print(x_cg)\n",
    "print(\"\\nCG with preconditioning:\")\n",
    "print(\"Number of iterations:\", callbackGCm.iteration)\n",
    "print(x_cg_precond)"
   ]
  },
  {
   "cell_type": "markdown",
   "id": "a6c15657-f5e4-45c4-83c7-766891a88a5c",
   "metadata": {},
   "source": [
    "## Insights & Discussion"
   ]
  },
  {
   "cell_type": "code",
   "execution_count": 21,
   "id": "715ee551-337b-4791-adfc-d819f4e0f97b",
   "metadata": {},
   "outputs": [
    {
     "data": {
      "image/png": "[encoded data removed]",
      "text/plain": [
       "<Figure size 640x480 with 1 Axes>"
      ]
     },
     "metadata": {},
     "output_type": "display_data"
    }
   ],
   "source": [
    "import numpy as np\n",
    "import matplotlib.pyplot as plt\n",
    "\n",
    "# Datos de ejemplo (puedes reemplazarlos con tus propios valores)\n",
    "categorias = [\"Jacobi\", \"Gauss-Seidel\", \"CG\", \"CG (Preconditioning)\"]\n",
    "valores = [6125, 3354, 73, 33]\n",
    "\n",
    "# Crea el gráfico de barras\n",
    "fig, ax = plt.subplots()\n",
    "bar_colors = [\"blue\", \"green\", \"red\", \"orange\"]  # Colores de las barras\n",
    "\n",
    "# Agrega un índice numérico para cada categoría\n",
    "x = np.arange(len(categorias))\n",
    "\n",
    "# Define el ancho de cada barra y el espacio entre ellas\n",
    "width = 0.4\n",
    "spacing = 0.1\n",
    "\n",
    "# Dibuja las barras con el espacio entre ellas\n",
    "bars = ax.bar(x, valores, width, color=bar_colors)\n",
    "\n",
    "# Personaliza el gráfico\n",
    "plt.xlabel(\"Methods\")\n",
    "plt.ylabel(\"Iterations\")\n",
    "plt.title(\"Iterations per method\")\n",
    "plt.grid(axis=\"y\")  # Agrega una cuadrícula en el eje Y\n",
    "\n",
    "# Agrega los valores encima de cada columna\n",
    "for bar in bars:\n",
    "    yval = bar.get_height()\n",
    "    plt.text(bar.get_x() + bar.get_width() / 2, yval, int(yval), ha='center', va='bottom')\n",
    "\n",
    "# Ajusta los límites y etiquetas del eje x\n",
    "plt.xticks(x, categorias)\n",
    "plt.tight_layout()\n",
    "\n",
    "# Muestra el gráfico\n",
    "plt.show()"
   ]
  },
  {
   "cell_type": "markdown",
   "id": "b438b7b7-c0f2-4f5f-b682-e8e0f675f654",
   "metadata": {},
   "source": [
    "These results show us that the Conjugate Gradient method (and its variant with preconditioning) was the most efficient in terms of convergence, requiring the least amount of iterations.\n",
    "\n",
    "While the Gauss-Seidel and Jacobi methods took 3354 and 6125 iterations respectively, the Conjugate Gradient methods reached convergence in only 73 and 33 iterations. In this case, preconditioning had a significant impact on the number of iterations needed for convergence.\n",
    "\n",
    "In summary, in this specific case, the Conjugate Gradient methods (with and without preconditioning) proved to be much more efficient in terms of convergence, requiring far fewer iterations than the Gauss-Seidel and Jacobi methods. These results highlight the advantage of Conjugate Gradient methods in solving more complex systems of equations.\n",
    "\n"
   ]
  }
 ],
 "metadata": {
  "kernelspec": {
   "display_name": "Python 3 (ipykernel)",
   "language": "python",
   "name": "python3"
  },
  "language_info": {
   "codemirror_mode": {
    "name": "ipython",
    "version": 3
   },
   "file_extension": ".py",
   "mimetype": "text/x-python",
   "name": "python",
   "nbconvert_exporter": "python",
   "pygments_lexer": "ipython3",
   "version": "3.10.2"
  }
 },
 "nbformat": 4,
 "nbformat_minor": 5
}
